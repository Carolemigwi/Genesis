{
    "cells": [
        {
            "cell_type": "code",
            "execution_count": 1,
            "metadata": {},
            "outputs": [
                {
                    "data": {
                        "text/html": "<div>\n<style scoped>\n    .dataframe tbody tr th:only-of-type {\n        vertical-align: middle;\n    }\n\n    .dataframe tbody tr th {\n        vertical-align: top;\n    }\n\n    .dataframe thead th {\n        text-align: right;\n    }\n</style>\n<table border=\"1\" class=\"dataframe\">\n  <thead>\n    <tr style=\"text-align: right;\">\n      <th></th>\n      <th>P000632429P</th>\n      <th>International Christian Centre</th>\n      <th>0005 00006</th>\n      <th>19-08-19</th>\n      <th>4</th>\n      <th>Bus hire</th>\n      <th>8,000.00</th>\n    </tr>\n  </thead>\n  <tbody>\n    <tr>\n      <th>0</th>\n      <td>NaN</td>\n      <td>Wealthsmith Ltd</td>\n      <td>0005 00004</td>\n      <td>19-08-19</td>\n      <td>5</td>\n      <td>Bus hire</td>\n      <td>21,551.72</td>\n    </tr>\n    <tr>\n      <th>1</th>\n      <td>NaN</td>\n      <td>Kabiru Tours</td>\n      <td>0005 00003</td>\n      <td>19-08-19</td>\n      <td>7</td>\n      <td>Bus hire</td>\n      <td>13,793.10</td>\n    </tr>\n    <tr>\n      <th>2</th>\n      <td>NaN</td>\n      <td>Kabiru Tours</td>\n      <td>0005 00002</td>\n      <td>19-08-19</td>\n      <td>6</td>\n      <td>Bus hire</td>\n      <td>14,655.17</td>\n    </tr>\n    <tr>\n      <th>3</th>\n      <td>P000632429P</td>\n      <td>International Christian Centre</td>\n      <td>0005 00005</td>\n      <td>19-08-19</td>\n      <td>2</td>\n      <td>Bus hire</td>\n      <td>17,000.00</td>\n    </tr>\n    <tr>\n      <th>4</th>\n      <td>P000632429P</td>\n      <td>International Christian Centre</td>\n      <td>0005 00001</td>\n      <td>19-08-19</td>\n      <td>10</td>\n      <td>Bus hire</td>\n      <td>250,000.00</td>\n    </tr>\n  </tbody>\n</table>\n</div>",
                        "text/plain": "   P000632429P  International Christian Centre  0005 00006  19-08-19   4  \\\n0          NaN                 Wealthsmith Ltd  0005 00004  19-08-19   5   \n1          NaN                    Kabiru Tours  0005 00003  19-08-19   7   \n2          NaN                    Kabiru Tours  0005 00002  19-08-19   6   \n3  P000632429P  International Christian Centre  0005 00005  19-08-19   2   \n4  P000632429P  International Christian Centre  0005 00001  19-08-19  10   \n\n   Bus hire    8,000.00  \n0  Bus hire   21,551.72  \n1  Bus hire   13,793.10  \n2  Bus hire   14,655.17  \n3  Bus hire   17,000.00  \n4  Bus hire  250,000.00  "
                    },
                    "execution_count": 1,
                    "metadata": {},
                    "output_type": "execute_result"
                }
            ],
            "source": "# The code was removed by Watson Studio for sharing."
        },
        {
            "cell_type": "code",
            "execution_count": null,
            "metadata": {},
            "outputs": [],
            "source": ""
        }
    ],
    "metadata": {
        "kernelspec": {
            "display_name": "Python 3.6",
            "language": "python",
            "name": "python3"
        },
        "language_info": {
            "codemirror_mode": {
                "name": "ipython",
                "version": 3
            },
            "file_extension": ".py",
            "mimetype": "text/x-python",
            "name": "python",
            "nbconvert_exporter": "python",
            "pygments_lexer": "ipython3",
            "version": "3.6.9"
        }
    },
    "nbformat": 4,
    "nbformat_minor": 1
}